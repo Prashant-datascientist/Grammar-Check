{
 "cells": [
  {
   "cell_type": "markdown",
   "metadata": {
    "id": "UQKZq4O8yTUD"
   },
   "source": [
    "## Import Libraries"
   ]
  },
  {
   "cell_type": "code",
   "execution_count": 1,
   "metadata": {
    "ExecuteTime": {
     "end_time": "2023-07-28T06:52:10.614579Z",
     "start_time": "2023-07-28T06:52:09.842166Z"
    },
    "executionInfo": {
     "elapsed": 1712,
     "status": "ok",
     "timestamp": 1635516063000,
     "user": {
      "displayName": "Rohan Sawant",
      "photoUrl": "https://lh3.googleusercontent.com/a-/AOh14Gjtxl3WLKLbZ5E1Tx7xWJhVsLDUVq_8IKKl-t4jWQ=s64",
      "userId": "08512062062939018513"
     },
     "user_tz": -330
    },
    "id": "mHKINILqgUfp"
   },
   "outputs": [],
   "source": [
    "import pandas as pd\n",
    "from tqdm import tqdm\n",
    "import numpy as np"
   ]
  },
  {
   "cell_type": "markdown",
   "metadata": {
    "id": "bJ_KHZ3gydQM"
   },
   "source": [
    "## Load Data"
   ]
  },
  {
   "cell_type": "code",
   "execution_count": 2,
   "metadata": {
    "ExecuteTime": {
     "end_time": "2023-07-28T06:52:10.655377Z",
     "start_time": "2023-07-28T06:52:10.614579Z"
    }
   },
   "outputs": [],
   "source": [
    "final_df = pd.read_csv('New_dataframe1.csv', encoding= 'unicode_escape')"
   ]
  },
  {
   "cell_type": "markdown",
   "metadata": {
    "id": "7UELXvJFykSg"
   },
   "source": [
    "## Check data"
   ]
  },
  {
   "cell_type": "code",
   "execution_count": 3,
   "metadata": {
    "ExecuteTime": {
     "end_time": "2023-07-28T06:52:10.673843Z",
     "start_time": "2023-07-28T06:52:10.658095Z"
    },
    "colab": {
     "base_uri": "https://localhost:8080/",
     "height": 203
    },
    "executionInfo": {
     "elapsed": 40,
     "status": "ok",
     "timestamp": 1635359457703,
     "user": {
      "displayName": "Rohan Sawant",
      "photoUrl": "https://lh3.googleusercontent.com/a-/AOh14Gjtxl3WLKLbZ5E1Tx7xWJhVsLDUVq_8IKKl-t4jWQ=s64",
      "userId": "08512062062939018513"
     },
     "user_tz": -330
    },
    "id": "sFHZUNlIwyll",
    "outputId": "51992832-0170-40d2-c237-b0d2776517b8",
    "scrolled": true
   },
   "outputs": [
    {
     "data": {
      "text/html": [
       "<div>\n",
       "<style scoped>\n",
       "    .dataframe tbody tr th:only-of-type {\n",
       "        vertical-align: middle;\n",
       "    }\n",
       "\n",
       "    .dataframe tbody tr th {\n",
       "        vertical-align: top;\n",
       "    }\n",
       "\n",
       "    .dataframe thead th {\n",
       "        text-align: right;\n",
       "    }\n",
       "</style>\n",
       "<table border=\"1\" class=\"dataframe\">\n",
       "  <thead>\n",
       "    <tr style=\"text-align: right;\">\n",
       "      <th></th>\n",
       "      <th>Bitcoin is for $7,094 this morning, which CoinDesk says.</th>\n",
       "      <th>Bitcoin goes for $7,094 this morning, according to CoinDesk.</th>\n",
       "    </tr>\n",
       "  </thead>\n",
       "  <tbody>\n",
       "    <tr>\n",
       "      <th>4764</th>\n",
       "      <td>As has been the case in previous BBC reporting...</td>\n",
       "      <td>As has been the case in previous BBC reporting...</td>\n",
       "    </tr>\n",
       "    <tr>\n",
       "      <th>510</th>\n",
       "      <td>The prototype design was unveiled this week at...</td>\n",
       "      <td>The prototype design was unveiled this week at...</td>\n",
       "    </tr>\n",
       "    <tr>\n",
       "      <th>6892</th>\n",
       "      <td>curved line between waypoints in their dialogu...</td>\n",
       "      <td>draw curved line between waypoints - like ongi...</td>\n",
       "    </tr>\n",
       "    <tr>\n",
       "      <th>3959</th>\n",
       "      <td>couch stores near me full size of furniture st...</td>\n",
       "      <td>couch stores near me full size of furniture st...</td>\n",
       "    </tr>\n",
       "    <tr>\n",
       "      <th>4400</th>\n",
       "      <td>GeForce Go 7300 GPUs can supporting from 256 M...</td>\n",
       "      <td>GeForce Go 7300 GPUs can support up to 256 MB ...</td>\n",
       "    </tr>\n",
       "  </tbody>\n",
       "</table>\n",
       "</div>"
      ],
      "text/plain": [
       "     Bitcoin is for $7,094 this morning, which CoinDesk says.  \\\n",
       "4764  As has been the case in previous BBC reporting...         \n",
       "510   The prototype design was unveiled this week at...         \n",
       "6892  curved line between waypoints in their dialogu...         \n",
       "3959  couch stores near me full size of furniture st...         \n",
       "4400  GeForce Go 7300 GPUs can supporting from 256 M...         \n",
       "\n",
       "     Bitcoin goes for $7,094 this morning, according to CoinDesk.  \n",
       "4764  As has been the case in previous BBC reporting...            \n",
       "510   The prototype design was unveiled this week at...            \n",
       "6892  draw curved line between waypoints - like ongi...            \n",
       "3959  couch stores near me full size of furniture st...            \n",
       "4400  GeForce Go 7300 GPUs can support up to 256 MB ...            "
      ]
     },
     "execution_count": 3,
     "metadata": {},
     "output_type": "execute_result"
    }
   ],
   "source": [
    "final_df.sample(5)"
   ]
  },
  {
   "cell_type": "code",
   "execution_count": 4,
   "metadata": {
    "ExecuteTime": {
     "end_time": "2023-07-28T06:52:10.689600Z",
     "start_time": "2023-07-28T06:52:10.675818Z"
    }
   },
   "outputs": [],
   "source": [
    "final_df.columns = ['correct', 'incorrect']"
   ]
  },
  {
   "cell_type": "code",
   "execution_count": 5,
   "metadata": {
    "ExecuteTime": {
     "end_time": "2023-07-28T06:52:10.705183Z",
     "start_time": "2023-07-28T06:52:10.690577Z"
    },
    "id": "SIJB5oh3ynWh"
   },
   "outputs": [],
   "source": [
    "def show_random_datapoints(n_samples,df):\n",
    "    for i in range(n_samples):\n",
    "        id = int(np.random.uniform(0,len(df)))\n",
    "\n",
    "        if len(df['correct'].iloc[id].split())>5 and df['correct'].iloc[id] != df['incorrect'].iloc[id]:\n",
    "            print(f\"CORRE: {df['correct'].iloc[id]}\")\n",
    "            print(f\"INCOR: {df['incorrect'].iloc[id]}\")\n",
    "            print('*'*100)"
   ]
  },
  {
   "cell_type": "code",
   "execution_count": 6,
   "metadata": {
    "ExecuteTime": {
     "end_time": "2023-07-28T06:52:10.723912Z",
     "start_time": "2023-07-28T06:52:10.706190Z"
    },
    "colab": {
     "base_uri": "https://localhost:8080/"
    },
    "executionInfo": {
     "elapsed": 33,
     "status": "ok",
     "timestamp": 1635359457706,
     "user": {
      "displayName": "Rohan Sawant",
      "photoUrl": "https://lh3.googleusercontent.com/a-/AOh14Gjtxl3WLKLbZ5E1Tx7xWJhVsLDUVq_8IKKl-t4jWQ=s64",
      "userId": "08512062062939018513"
     },
     "user_tz": -330
    },
    "id": "VkDFdZqWy98K",
    "outputId": "397f8f59-4d93-41c9-9b89-3ec688fff86e"
   },
   "outputs": [
    {
     "name": "stdout",
     "output_type": "stream",
     "text": [
      "CORRE: I guess wherever I go, because I have to buy Center Ice.\n",
      "INCOR: I guess wherever I go, I will have to buy Center Ice.\n",
      "****************************************************************************************************\n",
      "CORRE: Cupboards Villa Rosa look forward to starting you with you that when you send out your house at a home.\n",
      "INCOR: Cupboards Villa Rosa look forward to starting you on your journey in completing your house, to a home.\n",
      "****************************************************************************************************\n",
      "CORRE: Perfect shoes to see dance of night walk away.\n",
      "INCOR: Perfect shoes to dance the night away.\n",
      "****************************************************************************************************\n",
      "CORRE: Its programmes can be updated at on gong Basis.\n",
      "INCOR: Programmes can be updated on an on-going basis.\n",
      "****************************************************************************************************\n",
      "CORRE: Clearly see every stitch, fabric a d thread color under two bright LED lights.\n",
      "INCOR: Clearly see every stitch, fabric and thread color under two bright LED lights.\n",
      "****************************************************************************************************\n",
      "CORRE: Merry Christmas. May this bless yourself deeply up?\n",
      "INCOR: Merry Christmas. May this bless you deeply.\n",
      "****************************************************************************************************\n",
      "CORRE: Elbaâs comments follow Priscilla, Queen of ther Desertâs Guy Pearce telling The Guardian which he felt it was âdangerousâ to allow only certain actors to play certain roles because of their gender or sexuality.\n",
      "INCOR: Elbaâs comments follow Priscilla, Queen of the Desertâs Guy Pearce telling The Guardian he felt it was âdangerousâ to allow only certain actors to play certain roles because of their gender or sexuality.\n",
      "****************************************************************************************************\n",
      "CORRE: To improve processing of applications, the Province of Manitoba launched MPNP Online in June 2011, and after two years of positive feedback the MPNP erased native paperwork from its users, giving it the countryâs first online only immigration process.\n",
      "INCOR: To improve processing of applications, the Province of Manitoba launched MPNP Online in June 2011, and after two years of positive feedback the MPNP eliminated paperwork entirely, giving Manitoba the countryâs first online-only immigration process.\n",
      "****************************************************************************************************\n",
      "CORRE: by the circulation we understand the driving of the fluid blood, round and round the body, through the blood-vessel, such driving is being maintained by the pumping power of the heart, which is practically a hollow muscle.\n",
      "INCOR: By the circulation we understand the driving of the fluid blood, round and round the body, through the blood-vessels, such driving being maintained by the pumping power of the heart, which is practically a hollow muscle.\n",
      "****************************************************************************************************\n"
     ]
    }
   ],
   "source": [
    "show_random_datapoints(10,final_df)"
   ]
  },
  {
   "cell_type": "code",
   "execution_count": 7,
   "metadata": {
    "ExecuteTime": {
     "end_time": "2023-07-28T06:52:10.729062Z",
     "start_time": "2023-07-28T06:52:10.724894Z"
    },
    "colab": {
     "base_uri": "https://localhost:8080/"
    },
    "executionInfo": {
     "elapsed": 27,
     "status": "ok",
     "timestamp": 1635359457707,
     "user": {
      "displayName": "Rohan Sawant",
      "photoUrl": "https://lh3.googleusercontent.com/a-/AOh14Gjtxl3WLKLbZ5E1Tx7xWJhVsLDUVq_8IKKl-t4jWQ=s64",
      "userId": "08512062062939018513"
     },
     "user_tz": -330
    },
    "id": "q3vNgm_RxjJs",
    "outputId": "28e59c4d-8f4b-4703-cfa0-b154a71a6ea4"
   },
   "outputs": [
    {
     "data": {
      "text/plain": [
       "(10003, 2)"
      ]
     },
     "execution_count": 7,
     "metadata": {},
     "output_type": "execute_result"
    }
   ],
   "source": [
    "final_df.shape"
   ]
  },
  {
   "cell_type": "code",
   "execution_count": 8,
   "metadata": {
    "ExecuteTime": {
     "end_time": "2023-07-28T06:52:10.788845Z",
     "start_time": "2023-07-28T06:52:10.729062Z"
    },
    "executionInfo": {
     "elapsed": 6177,
     "status": "ok",
     "timestamp": 1635516104493,
     "user": {
      "displayName": "Rohan Sawant",
      "photoUrl": "https://lh3.googleusercontent.com/a-/AOh14Gjtxl3WLKLbZ5E1Tx7xWJhVsLDUVq_8IKKl-t4jWQ=s64",
      "userId": "08512062062939018513"
     },
     "user_tz": -330
    },
    "id": "q7kuNNzEw3yz"
   },
   "outputs": [],
   "source": [
    "final_df.to_csv('C:/Users/prash/Desktop/New_now100/data/final_df_.csv',index=False)"
   ]
  },
  {
   "cell_type": "code",
   "execution_count": null,
   "metadata": {},
   "outputs": [],
   "source": []
  }
 ],
 "metadata": {
  "colab": {
   "authorship_tag": "ABX9TyOSeiMfGWPHsZWAsPszc3/u",
   "collapsed_sections": [],
   "mount_file_id": "12cEbNqoYSRnEG775wFUBUeYi6sWQPmCU",
   "name": "CS02.01 Data Extraction",
   "provenance": []
  },
  "kernelspec": {
   "display_name": "Python 3 (ipykernel)",
   "language": "python",
   "name": "python3"
  },
  "language_info": {
   "codemirror_mode": {
    "name": "ipython",
    "version": 3
   },
   "file_extension": ".py",
   "mimetype": "text/x-python",
   "name": "python",
   "nbconvert_exporter": "python",
   "pygments_lexer": "ipython3",
   "version": "3.9.13"
  },
  "toc": {
   "base_numbering": 1,
   "nav_menu": {},
   "number_sections": true,
   "sideBar": true,
   "skip_h1_title": false,
   "title_cell": "Table of Contents",
   "title_sidebar": "Contents",
   "toc_cell": false,
   "toc_position": {},
   "toc_section_display": true,
   "toc_window_display": false
  }
 },
 "nbformat": 4,
 "nbformat_minor": 1
}
