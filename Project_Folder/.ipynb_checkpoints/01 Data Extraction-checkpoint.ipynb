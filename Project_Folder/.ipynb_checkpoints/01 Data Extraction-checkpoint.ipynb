{
 "cells": [
  {
   "cell_type": "markdown",
   "metadata": {
    "id": "UQKZq4O8yTUD"
   },
   "source": [
    "## Import Libraries"
   ]
  },
  {
   "cell_type": "code",
   "execution_count": 1,
   "metadata": {
    "executionInfo": {
     "elapsed": 1712,
     "status": "ok",
     "timestamp": 1635516063000,
     "user": {
      "displayName": "Rohan Sawant",
      "photoUrl": "https://lh3.googleusercontent.com/a-/AOh14Gjtxl3WLKLbZ5E1Tx7xWJhVsLDUVq_8IKKl-t4jWQ=s64",
      "userId": "08512062062939018513"
     },
     "user_tz": -330
    },
    "id": "mHKINILqgUfp"
   },
   "outputs": [],
   "source": [
    "import pandas as pd\n",
    "from tqdm import tqdm\n",
    "import numpy as np"
   ]
  },
  {
   "cell_type": "markdown",
   "metadata": {
    "id": "bJ_KHZ3gydQM"
   },
   "source": [
    "## Master Function & convert to dataframe"
   ]
  },
  {
   "cell_type": "code",
   "execution_count": 3,
   "metadata": {
    "executionInfo": {
     "elapsed": 696,
     "status": "ok",
     "timestamp": 1635516074488,
     "user": {
      "displayName": "Rohan Sawant",
      "photoUrl": "https://lh3.googleusercontent.com/a-/AOh14Gjtxl3WLKLbZ5E1Tx7xWJhVsLDUVq_8IKKl-t4jWQ=s64",
      "userId": "08512062062939018513"
     },
     "user_tz": -330
    },
    "id": "4zzr12B6txpi"
   },
   "outputs": [],
   "source": [
    "#https://www.cl.cam.ac.uk/research/nl/bea2019st/data/corr_from_m2.py\n",
    "def m2_to_df(m2_file_path,id=0):\n",
    "    '''This function takes m2 file path as input and converts it to pandas dataframe'''\n",
    "\n",
    "    m2 = open(m2_file_path).read().strip().split(\"\\n\\n\")\n",
    "    # Do not apply edits with these error types\n",
    "    skip = {\"noop\", \"UNK\", \"Um\"}\n",
    "\n",
    "    correct_sent_array = []\n",
    "    incorrect_sent_array = []\n",
    "\n",
    "    for sent in tqdm(m2):\n",
    "        sent = sent.split(\"\\n\")\n",
    "        incor_sent = sent[0].split()[1:] # Ignore \"S \"\n",
    "        incorrect_sent_array.append(str(' '.join(incor_sent))) \n",
    "        cor_sent = incor_sent.copy()\n",
    "\n",
    "        edits = sent[1:]\n",
    "        offset = 0\n",
    "        for edit in edits:\n",
    "            edit = edit.split(\"|||\")\n",
    "            if edit[1] in skip: continue # Ignore certain edits\n",
    "            coder = int(edit[-1])\n",
    "            if coder != id: continue # Ignore other coders\n",
    "            span = edit[0].split()[1:] # Ignore \"A \"\n",
    "            start = int(span[0])\n",
    "            end = int(span[1])\n",
    "            cor = edit[2].split()\n",
    "            cor_sent[start+offset:end+offset] = cor\n",
    "            offset = offset-(end-start)+len(cor)\n",
    "        correct_sent_array.append(str(' '.join(cor_sent)))\n",
    "\n",
    "    df = pd.DataFrame()\n",
    "    df[\"correct\"] = correct_sent_array\n",
    "    df[\"incorrect\"] = incorrect_sent_array\n",
    "    return df"
   ]
  },
  {
   "cell_type": "code",
   "execution_count": 4,
   "metadata": {
    "colab": {
     "base_uri": "https://localhost:8080/"
    },
    "executionInfo": {
     "elapsed": 11838,
     "status": "ok",
     "timestamp": 1635516089840,
     "user": {
      "displayName": "Rohan Sawant",
      "photoUrl": "https://lh3.googleusercontent.com/a-/AOh14Gjtxl3WLKLbZ5E1Tx7xWJhVsLDUVq_8IKKl-t4jWQ=s64",
      "userId": "08512062062939018513"
     },
     "user_tz": -330
    },
    "id": "IaDJU7_Sh_7p",
    "outputId": "24cdb85f-6b2c-46f1-9fe4-f1f2b96043b3"
   },
   "outputs": [
    {
     "name": "stderr",
     "output_type": "stream",
     "text": [
      "100%|██████████| 1037561/1037561 [00:06<00:00, 158261.04it/s]\n"
     ]
    }
   ],
   "source": [
    "m2_file_path = '/content/drive/MyDrive/Self Case studies/CS02 Grammar Error Corrector/lang8.bea19/lang8.train.auto.bea19.m2'\n",
    "final_df = m2_to_df(m2_file_path)"
   ]
  },
  {
   "cell_type": "markdown",
   "metadata": {
    "id": "7UELXvJFykSg"
   },
   "source": [
    "## Check data"
   ]
  },
  {
   "cell_type": "code",
   "execution_count": null,
   "metadata": {
    "colab": {
     "base_uri": "https://localhost:8080/",
     "height": 203
    },
    "executionInfo": {
     "elapsed": 40,
     "status": "ok",
     "timestamp": 1635359457703,
     "user": {
      "displayName": "Rohan Sawant",
      "photoUrl": "https://lh3.googleusercontent.com/a-/AOh14Gjtxl3WLKLbZ5E1Tx7xWJhVsLDUVq_8IKKl-t4jWQ=s64",
      "userId": "08512062062939018513"
     },
     "user_tz": -330
    },
    "id": "sFHZUNlIwyll",
    "outputId": "51992832-0170-40d2-c237-b0d2776517b8"
   },
   "outputs": [
    {
     "data": {
      "text/html": [
       "<div>\n",
       "<style scoped>\n",
       "    .dataframe tbody tr th:only-of-type {\n",
       "        vertical-align: middle;\n",
       "    }\n",
       "\n",
       "    .dataframe tbody tr th {\n",
       "        vertical-align: top;\n",
       "    }\n",
       "\n",
       "    .dataframe thead th {\n",
       "        text-align: right;\n",
       "    }\n",
       "</style>\n",
       "<table border=\"1\" class=\"dataframe\">\n",
       "  <thead>\n",
       "    <tr style=\"text-align: right;\">\n",
       "      <th></th>\n",
       "      <th>correct</th>\n",
       "      <th>incorrect</th>\n",
       "    </tr>\n",
       "  </thead>\n",
       "  <tbody>\n",
       "    <tr>\n",
       "      <th>200156</th>\n",
       "      <td>But I could n't enjoy the beautiful view from ...</td>\n",
       "      <td>But I could n't enjoy the beatuful view from t...</td>\n",
       "    </tr>\n",
       "    <tr>\n",
       "      <th>380530</th>\n",
       "      <td>Everyone complained and the others laughed .</td>\n",
       "      <td>Anyone complained and the others laughed .</td>\n",
       "    </tr>\n",
       "    <tr>\n",
       "      <th>248871</th>\n",
       "      <td>This comic is very interesting .</td>\n",
       "      <td>This comic is very interesting .</td>\n",
       "    </tr>\n",
       "    <tr>\n",
       "      <th>114901</th>\n",
       "      <td>I have never been there , but I watced about i...</td>\n",
       "      <td>I have never been to there , but I watced on T...</td>\n",
       "    </tr>\n",
       "    <tr>\n",
       "      <th>70067</th>\n",
       "      <td>Please correct my English !</td>\n",
       "      <td>Please correct my English !</td>\n",
       "    </tr>\n",
       "  </tbody>\n",
       "</table>\n",
       "</div>"
      ],
      "text/plain": [
       "                                                  correct                                          incorrect\n",
       "200156  But I could n't enjoy the beautiful view from ...  But I could n't enjoy the beatuful view from t...\n",
       "380530       Everyone complained and the others laughed .         Anyone complained and the others laughed .\n",
       "248871                   This comic is very interesting .                   This comic is very interesting .\n",
       "114901  I have never been there , but I watced about i...  I have never been to there , but I watced on T...\n",
       "70067                         Please correct my English !                        Please correct my English !"
      ]
     },
     "execution_count": 187,
     "metadata": {},
     "output_type": "execute_result"
    }
   ],
   "source": [
    "final_df.sample(5)"
   ]
  },
  {
   "cell_type": "code",
   "execution_count": null,
   "metadata": {
    "id": "SIJB5oh3ynWh"
   },
   "outputs": [],
   "source": [
    "def show_random_datapoints(n_samples,df):\n",
    "    for i in range(n_samples):\n",
    "        id = int(np.random.uniform(0,len(df)))\n",
    "\n",
    "        if len(df['correct'].iloc[id].split())>5 and df['correct'].iloc[id] != df['incorrect'].iloc[id]:\n",
    "            print(f\"CORRE: {df['correct'].iloc[id]}\")\n",
    "            print(f\"INCOR: {df['incorrect'].iloc[id]}\")\n",
    "            print('*'*100)"
   ]
  },
  {
   "cell_type": "code",
   "execution_count": null,
   "metadata": {
    "colab": {
     "base_uri": "https://localhost:8080/"
    },
    "executionInfo": {
     "elapsed": 33,
     "status": "ok",
     "timestamp": 1635359457706,
     "user": {
      "displayName": "Rohan Sawant",
      "photoUrl": "https://lh3.googleusercontent.com/a-/AOh14Gjtxl3WLKLbZ5E1Tx7xWJhVsLDUVq_8IKKl-t4jWQ=s64",
      "userId": "08512062062939018513"
     },
     "user_tz": -330
    },
    "id": "VkDFdZqWy98K",
    "outputId": "397f8f59-4d93-41c9-9b89-3ec688fff86e"
   },
   "outputs": [
    {
     "name": "stdout",
     "output_type": "stream",
     "text": [
      "CORRE: so if anyone knows of some good ways to get good sleep , please let me know : )\n",
      "INCOR: so if anyone knows something good way to good sleep , please let me know : )\n",
      "****************************************************************************************************\n",
      "CORRE: Honestly speaking , my weak point is dealing with `` mama 's boys `` .\n",
      "INCOR: Honestly speaking , my weak point is dealing with `` mama 's boy `` .\n",
      "****************************************************************************************************\n",
      "CORRE: I am curious about how they learn to do it , besides having quick reaction , they must have great balance .\n",
      "INCOR: I am curious about how they practice it , they must have great balance besides quick reaction .\n",
      "****************************************************************************************************\n",
      "CORRE: Today , I called the hospital and I was able to get an apointment .\n",
      "INCOR: Today , I try to call hospital and I was able to get an apointment .\n",
      "****************************************************************************************************\n",
      "CORRE: Though I sometimes talked about this topic to my neighbors , I could acquire little empathy .\n",
      "INCOR: Though I sometimes said this topics to my neighbors , I could acquire little empathy .\n",
      "****************************************************************************************************\n",
      "CORRE: But , ATM fees are high .\n",
      "INCOR: But , ATM 's fee is high .\n",
      "****************************************************************************************************\n",
      "CORRE: I do n't like grammar .\n",
      "INCOR: I do n't like gramer .\n",
      "****************************************************************************************************\n",
      "CORRE: Oh my god ! I broke my leg\n",
      "INCOR: oh my god I broke my leg\n",
      "****************************************************************************************************\n",
      "CORRE: I could go through to the last boarding gate without doing anything else .\n",
      "INCOR: I could go through until the last boarding gate without any procedures .\n",
      "****************************************************************************************************\n"
     ]
    }
   ],
   "source": [
    "show_random_datapoints(10,final_df)"
   ]
  },
  {
   "cell_type": "code",
   "execution_count": null,
   "metadata": {
    "colab": {
     "base_uri": "https://localhost:8080/"
    },
    "executionInfo": {
     "elapsed": 27,
     "status": "ok",
     "timestamp": 1635359457707,
     "user": {
      "displayName": "Rohan Sawant",
      "photoUrl": "https://lh3.googleusercontent.com/a-/AOh14Gjtxl3WLKLbZ5E1Tx7xWJhVsLDUVq_8IKKl-t4jWQ=s64",
      "userId": "08512062062939018513"
     },
     "user_tz": -330
    },
    "id": "q3vNgm_RxjJs",
    "outputId": "28e59c4d-8f4b-4703-cfa0-b154a71a6ea4"
   },
   "outputs": [
    {
     "data": {
      "text/plain": [
       "(1037561, 2)"
      ]
     },
     "execution_count": 190,
     "metadata": {},
     "output_type": "execute_result"
    }
   ],
   "source": [
    "final_df.shape"
   ]
  },
  {
   "cell_type": "code",
   "execution_count": 5,
   "metadata": {
    "executionInfo": {
     "elapsed": 6177,
     "status": "ok",
     "timestamp": 1635516104493,
     "user": {
      "displayName": "Rohan Sawant",
      "photoUrl": "https://lh3.googleusercontent.com/a-/AOh14Gjtxl3WLKLbZ5E1Tx7xWJhVsLDUVq_8IKKl-t4jWQ=s64",
      "userId": "08512062062939018513"
     },
     "user_tz": -330
    },
    "id": "q7kuNNzEw3yz"
   },
   "outputs": [],
   "source": [
    "final_df.to_csv('C:/Users/prash/Desktop/Now100 Assignment/data/final_df_.csv',index=False)"
   ]
  }
 ],
 "metadata": {
  "colab": {
   "authorship_tag": "ABX9TyOSeiMfGWPHsZWAsPszc3/u",
   "collapsed_sections": [],
   "mount_file_id": "12cEbNqoYSRnEG775wFUBUeYi6sWQPmCU",
   "name": "CS02.01 Data Extraction",
   "provenance": []
  },
  "kernelspec": {
   "display_name": "Python 3 (ipykernel)",
   "language": "python",
   "name": "python3"
  },
  "language_info": {
   "codemirror_mode": {
    "name": "ipython",
    "version": 3
   },
   "file_extension": ".py",
   "mimetype": "text/x-python",
   "name": "python",
   "nbconvert_exporter": "python",
   "pygments_lexer": "ipython3",
   "version": "3.9.13"
  },
  "toc": {
   "base_numbering": 1,
   "nav_menu": {},
   "number_sections": true,
   "sideBar": true,
   "skip_h1_title": false,
   "title_cell": "Table of Contents",
   "title_sidebar": "Contents",
   "toc_cell": false,
   "toc_position": {},
   "toc_section_display": true,
   "toc_window_display": false
  }
 },
 "nbformat": 4,
 "nbformat_minor": 1
}
